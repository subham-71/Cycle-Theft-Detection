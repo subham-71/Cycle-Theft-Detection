{
 "cells": [
  {
   "cell_type": "code",
   "execution_count": 3,
   "metadata": {},
   "outputs": [],
   "source": [
    "import cv2\n",
    "\n",
    "video_names = [\"sample.avi\", \"theftDrop.avi\", \"theftPick.avi\"]\n",
    "\n",
    "frame_count = 0\n",
    "\n",
    "for video in video_names:\n",
    "    # Open the video file\n",
    "    video_path = f\"./videos/{video}\"\n",
    "    cap = cv2.VideoCapture(video_path)\n",
    "\n",
    "    # Check if the video file opened successfully\n",
    "    if not cap.isOpened():\n",
    "        print(\"Error: Could not open video file.\")\n",
    "        exit()\n",
    "\n",
    "    # Set the frame interval (e.g., save every 20th frame)\n",
    "    frame_interval = 20\n",
    "\n",
    "    # Loop through frames in the video\n",
    "    while True:\n",
    "        ret, frame = cap.read()\n",
    "\n",
    "        # Break the loop if the video is finished\n",
    "        if not ret:\n",
    "            break\n",
    "\n",
    "        frame_count += 1\n",
    "\n",
    "        # Save every nth frame\n",
    "        if frame_count % frame_interval == 0:\n",
    "            image_path = f\"./images/frame_{frame_count}.png\"\n",
    "            cv2.imwrite(image_path, frame)\n",
    "            # print(f\"Saved: {image_path}\")\n",
    "\n",
    "    # Release the video capture object\n",
    "    cap.release()\n"
   ]
  },
  {
   "cell_type": "code",
   "execution_count": null,
   "metadata": {},
   "outputs": [],
   "source": []
  }
 ],
 "metadata": {
  "kernelspec": {
   "display_name": "Python 3",
   "language": "python",
   "name": "python3"
  },
  "language_info": {
   "codemirror_mode": {
    "name": "ipython",
    "version": 3
   },
   "file_extension": ".py",
   "mimetype": "text/x-python",
   "name": "python",
   "nbconvert_exporter": "python",
   "pygments_lexer": "ipython3",
   "version": "3.11.6"
  }
 },
 "nbformat": 4,
 "nbformat_minor": 2
}
